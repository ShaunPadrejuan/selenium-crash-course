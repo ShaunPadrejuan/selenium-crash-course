{
 "cells": [
  {
   "cell_type": "markdown",
   "metadata": {},
   "source": [
    "## Imports and Initialization"
   ]
  },
  {
   "cell_type": "code",
   "execution_count": 1,
   "metadata": {},
   "outputs": [],
   "source": [
    "from selenium import webdriver\n",
    "from selenium.webdriver.chrome.service import Service\n",
    "from selenium.webdriver.common.keys import Keys\n",
    "from selenium.webdriver.common.by import By\n",
    "from selenium.webdriver.support.ui import WebDriverWait\n",
    "from selenium.webdriver.support import expected_conditions as EC\n",
    "import time\n",
    "CHROME_DRIVER_PATH = r\"C:\\Program Files (x86)\\chromedriver.exe\"\n",
    "service = Service(CHROME_DRIVER_PATH)\n",
    "chrome_options = webdriver.ChromeOptions()\n",
    "driver = webdriver.Chrome(service=service, options=chrome_options)"
   ]
  },
  {
   "cell_type": "markdown",
   "metadata": {},
   "source": [
    "## Use website saucedemo for this demo. "
   ]
  },
  {
   "cell_type": "code",
   "execution_count": 2,
   "metadata": {},
   "outputs": [
    {
     "name": "stdout",
     "output_type": "stream",
     "text": [
      "Swag Labs\n"
     ]
    }
   ],
   "source": [
    "driver.get(\"https://www.saucedemo.com/\")\n",
    "print(driver.title)"
   ]
  },
  {
   "cell_type": "markdown",
   "metadata": {},
   "source": [
    "## Login Form"
   ]
  },
  {
   "cell_type": "code",
   "execution_count": 3,
   "metadata": {},
   "outputs": [],
   "source": [
    "username_input  = driver.find_element(By.ID, 'user-name')\n",
    "username_input.send_keys(\"standard_user\")\n",
    "password_input = driver.find_element(By.ID, 'password')\n",
    "password_input.send_keys(\"secret_sauce\")\n",
    "password_input.send_keys(Keys.RETURN)"
   ]
  },
  {
   "cell_type": "markdown",
   "metadata": {},
   "source": [
    "## Click element"
   ]
  },
  {
   "cell_type": "code",
   "execution_count": 4,
   "metadata": {},
   "outputs": [],
   "source": [
    "link = driver.find_element(By.LINK_TEXT, \"Sauce Labs Backpack\")\n",
    "link.click()"
   ]
  },
  {
   "cell_type": "markdown",
   "metadata": {},
   "source": [
    "## Try-Catch Blocks to find products"
   ]
  },
  {
   "cell_type": "code",
   "execution_count": 5,
   "metadata": {},
   "outputs": [],
   "source": [
    "try:\n",
    "    element = WebDriverWait(driver,10).until(EC.presence_of_element_located((By.ID,'back-to-products')))\n",
    "    element.click()\n",
    "except:\n",
    "    driver.quit()\n",
    "\n",
    "try:\n",
    "    element = WebDriverWait(driver,10).until(EC.presence_of_element_located((By.LINK_TEXT, \"Sauce Labs Bike Light\")))\n",
    "    element.click()\n",
    "except:\n",
    "    driver.quit()\n",
    "\n",
    "try:\n",
    "    element = WebDriverWait(driver,10).until(EC.presence_of_element_located((By.ID,'add-to-cart-sauce-labs-bike-light')))\n",
    "    element.click()\n",
    "except:\n",
    "    driver.quit()"
   ]
  },
  {
   "cell_type": "markdown",
   "metadata": {},
   "source": [
    "## Codes to navigate pages. (Go back or Forward)"
   ]
  },
  {
   "cell_type": "code",
   "execution_count": 6,
   "metadata": {},
   "outputs": [],
   "source": [
    "driver.back()\n",
    "driver.back()\n",
    "driver.forward()\n",
    "\n",
    "# element.clear() clears the instance of element to not have bugs on appending values.\n",
    "time.sleep(10)  # Delay for 10 seconds\n",
    "\n",
    "\n",
    "driver.quit()"
   ]
  }
 ],
 "metadata": {
  "kernelspec": {
   "display_name": "Python 3",
   "language": "python",
   "name": "python3"
  },
  "language_info": {
   "codemirror_mode": {
    "name": "ipython",
    "version": 3
   },
   "file_extension": ".py",
   "mimetype": "text/x-python",
   "name": "python",
   "nbconvert_exporter": "python",
   "pygments_lexer": "ipython3",
   "version": "3.12.1"
  }
 },
 "nbformat": 4,
 "nbformat_minor": 2
}
