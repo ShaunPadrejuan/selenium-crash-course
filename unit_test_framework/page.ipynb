{
 "cells": [
  {
   "cell_type": "markdown",
   "metadata": {},
   "source": [
    "## Imports"
   ]
  },
  {
   "cell_type": "code",
   "execution_count": 1,
   "metadata": {},
   "outputs": [
    {
     "ename": "ModuleNotFoundError",
     "evalue": "No module named 'locator'",
     "output_type": "error",
     "traceback": [
      "\u001b[1;31m---------------------------------------------------------------------------\u001b[0m",
      "\u001b[1;31mModuleNotFoundError\u001b[0m                       Traceback (most recent call last)",
      "Cell \u001b[1;32mIn[1], line 2\u001b[0m\n\u001b[0;32m      1\u001b[0m \u001b[38;5;28;01mimport\u001b[39;00m \u001b[38;5;21;01mimport_ipynb\u001b[39;00m\n\u001b[1;32m----> 2\u001b[0m \u001b[38;5;28;01mfrom\u001b[39;00m \u001b[38;5;21;01mlocator\u001b[39;00m \u001b[38;5;28;01mimport\u001b[39;00m \u001b[38;5;241m*\u001b[39m\n\u001b[0;32m      3\u001b[0m \u001b[38;5;28;01mfrom\u001b[39;00m \u001b[38;5;21;01melement\u001b[39;00m \u001b[38;5;28;01mimport\u001b[39;00m BasePageElement\n",
      "\u001b[1;31mModuleNotFoundError\u001b[0m: No module named 'locator'"
     ]
    }
   ],
   "source": [
    "import import_ipynb\n",
    "from locator import *\n",
    "from element import BasePageElement"
   ]
  },
  {
   "cell_type": "markdown",
   "metadata": {},
   "source": [
    "## Define SearchTextElement"
   ]
  },
  {
   "cell_type": "code",
   "execution_count": null,
   "metadata": {},
   "outputs": [],
   "source": [
    "class SearchTextElement(BasePageElement):\n",
    "    locator=\"q\""
   ]
  },
  {
   "cell_type": "markdown",
   "metadata": {},
   "source": [
    "## Define BasePage"
   ]
  },
  {
   "cell_type": "code",
   "execution_count": null,
   "metadata": {},
   "outputs": [],
   "source": [
    "class BasePage(object): # do not need object\n",
    "    def __init__(self, driver):\n",
    "        self.driver = driver\n",
    "\n",
    "class MainPage(BasePage):\n",
    "    \n",
    "    search_text_element = SearchTextElement()\n",
    "    \n",
    "    def is_title_matches(self):\n",
    "        return \"Python\" in self.driver.title\n",
    "    \n",
    "    def click_go_button(self):\n",
    "        element = self.driver.find_element(*MainPageLocators.GO_BUTTON)\n",
    "        element.click()\n",
    "\n",
    "class SearchResultPage(BasePage):\n",
    "\n",
    "    def is_results_found(self):\n",
    "        return \"No results found\" not in self.driver.page_source\n",
    "        "
   ]
  }
 ],
 "metadata": {
  "kernelspec": {
   "display_name": "Python 3",
   "language": "python",
   "name": "python3"
  },
  "language_info": {
   "codemirror_mode": {
    "name": "ipython",
    "version": 3
   },
   "file_extension": ".py",
   "mimetype": "text/x-python",
   "name": "python",
   "nbconvert_exporter": "python",
   "pygments_lexer": "ipython3",
   "version": "3.12.1"
  }
 },
 "nbformat": 4,
 "nbformat_minor": 2
}
