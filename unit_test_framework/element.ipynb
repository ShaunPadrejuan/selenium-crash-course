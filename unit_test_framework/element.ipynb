{
 "cells": [
  {
   "cell_type": "markdown",
   "metadata": {},
   "source": [
    "## Imports"
   ]
  },
  {
   "cell_type": "code",
   "execution_count": 1,
   "metadata": {},
   "outputs": [],
   "source": [
    "from selenium.webdriver.support.ui import WebDriverWait\n",
    "from selenium.webdriver.common.by import By"
   ]
  },
  {
   "cell_type": "code",
   "execution_count": null,
   "metadata": {},
   "outputs": [],
   "source": [
    "class BasePageElement(object):\n",
    "    def __set__(self, obj, value):\n",
    "        driver = obj.driver\n",
    "        WebDriverWait(driver,100).until(lambda driver: driver.find_element(By.NAME,self.locator))\n",
    "        driver.find_element(By.NAME,self.locator).clear()\n",
    "        driver.find_element(By.NAME,self.locator).send_keys(value)\n",
    "\n",
    "    def __get__(self, obj, owner):\n",
    "        driver = obj.driver\n",
    "        WebDriverWait(driver,100).until(lambda driver: driver.find_element(By.NAME, self.locator))\n",
    "        element = driver.find_element(By.NAME,self.locator)\n",
    "        return element.get_attribute(\"value\")"
   ]
  }
 ],
 "metadata": {
  "kernelspec": {
   "display_name": "Python 3",
   "language": "python",
   "name": "python3"
  },
  "language_info": {
   "codemirror_mode": {
    "name": "ipython",
    "version": 3
   },
   "file_extension": ".py",
   "mimetype": "text/x-python",
   "name": "python",
   "nbconvert_exporter": "python",
   "pygments_lexer": "ipython3",
   "version": "3.12.1"
  }
 },
 "nbformat": 4,
 "nbformat_minor": 2
}
