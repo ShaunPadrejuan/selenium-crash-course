{
 "cells": [
  {
   "cell_type": "markdown",
   "metadata": {},
   "source": [
    "## Imports and Define Drivers, and Services"
   ]
  },
  {
   "cell_type": "code",
   "execution_count": 1,
   "metadata": {},
   "outputs": [],
   "source": [
    "from selenium import webdriver\n",
    "from selenium.webdriver.chrome.service import Service\n",
    "from selenium.webdriver.common.keys import Keys\n",
    "from selenium.webdriver.common.by import By\n",
    "from selenium.webdriver.support.ui import WebDriverWait\n",
    "from selenium.webdriver.support import expected_conditions as EC\n",
    "CHROME_DRIVER_PATH = r\"C:\\Program Files (x86)\\chromedriver.exe\"\n",
    "service = Service(CHROME_DRIVER_PATH)\n",
    "chrome_options = webdriver.ChromeOptions()\n",
    "driver = webdriver.Chrome(service=service, options=chrome_options)"
   ]
  },
  {
   "cell_type": "markdown",
   "metadata": {},
   "source": [
    "## Use website saucedemo for this demo. "
   ]
  },
  {
   "cell_type": "code",
   "execution_count": 2,
   "metadata": {},
   "outputs": [
    {
     "name": "stdout",
     "output_type": "stream",
     "text": [
      "Swag Labs\n"
     ]
    }
   ],
   "source": [
    "driver.get(\"https://www.saucedemo.com/\")\n",
    "print(driver.title)"
   ]
  },
  {
   "cell_type": "markdown",
   "metadata": {},
   "source": [
    "## Finding inputs for username and password via their IDs"
   ]
  },
  {
   "cell_type": "code",
   "execution_count": 3,
   "metadata": {},
   "outputs": [],
   "source": [
    "username_input  = driver.find_element(By.ID, 'user-name')\n",
    "username_input.send_keys(\"standard_user\")\n",
    "\n",
    "password_input = driver.find_element(By.ID, 'password')\n",
    "password_input.send_keys(\"secret_sauce\")\n",
    "\n",
    "password_input.send_keys(Keys.RETURN) #Enter key"
   ]
  },
  {
   "cell_type": "markdown",
   "metadata": {},
   "source": [
    "## Once logged in. Get all inventory elements via Class Name and print them. Use try-catch to verify existence and to avoid error."
   ]
  },
  {
   "cell_type": "code",
   "execution_count": 4,
   "metadata": {},
   "outputs": [
    {
     "name": "stdout",
     "output_type": "stream",
     "text": [
      "Sauce Labs Backpack\n",
      "Sauce Labs Bike Light\n",
      "Sauce Labs Bolt T-Shirt\n",
      "Sauce Labs Fleece Jacket\n",
      "Sauce Labs Onesie\n",
      "Test.allTheThings() T-Shirt (Red)\n"
     ]
    }
   ],
   "source": [
    "#This is to take account the loading of the website.\n",
    "try:\n",
    "    inventory_container = WebDriverWait(driver,10).until(EC.presence_of_element_located((By.ID,'inventory_container')))\n",
    "\n",
    "    #getting all inventory items\n",
    "    inventory_items = inventory_container.find_elements(By.CLASS_NAME,'inventory_item')\n",
    "\n",
    "    #specific going to item name \n",
    "    for item in inventory_items:\n",
    "        item_name = item.find_element(By.CLASS_NAME, 'inventory_item_name')\n",
    "        print(item_name.text)\n",
    "\n",
    "except:\n",
    "    driver.quit()"
   ]
  }
 ],
 "metadata": {
  "kernelspec": {
   "display_name": "Python 3",
   "language": "python",
   "name": "python3"
  },
  "language_info": {
   "codemirror_mode": {
    "name": "ipython",
    "version": 3
   },
   "file_extension": ".py",
   "mimetype": "text/x-python",
   "name": "python",
   "nbconvert_exporter": "python",
   "pygments_lexer": "ipython3",
   "version": "3.12.1"
  }
 },
 "nbformat": 4,
 "nbformat_minor": 2
}
